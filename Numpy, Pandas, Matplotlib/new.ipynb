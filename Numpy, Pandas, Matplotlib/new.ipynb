{
 "cells": [
  {
   "cell_type": "code",
   "execution_count": null,
   "metadata": {},
   "outputs": [],
   "source": [
    "# function that creates a flower_dictionary from filename\n",
    "def create_flowerdict(filename):\n",
    "    flower_dict = {}\n",
    "    with open(filename) as f:\n",
    "        for line in f:\n",
    "            letter = line.split(\": \")[0].lower() \n",
    "            return letter\n",
    "    #         flower = line.split(\": \")[1].strip()\n",
    "    #         flower_dict[letter] = flower\n",
    "    # return flower_dict\n",
    "\n",
    "create_flowerdict(\"flower.txt\")"
   ]
  }
 ],
 "metadata": {
  "language_info": {
   "name": "python"
  },
  "orig_nbformat": 4
 },
 "nbformat": 4,
 "nbformat_minor": 2
}
